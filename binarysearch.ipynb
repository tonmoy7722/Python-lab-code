{
  "nbformat": 4,
  "nbformat_minor": 0,
  "metadata": {
    "colab": {
      "provenance": [],
      "authorship_tag": "ABX9TyMO8VMigMcsAVjxT9K/64Vv",
      "include_colab_link": true
    },
    "kernelspec": {
      "name": "python3",
      "display_name": "Python 3"
    },
    "language_info": {
      "name": "python"
    }
  },
  "cells": [
    {
      "cell_type": "markdown",
      "metadata": {
        "id": "view-in-github",
        "colab_type": "text"
      },
      "source": [
        "<a href=\"https://colab.research.google.com/github/tonmoy7722/Python-lab-code/blob/main/binarysearch.ipynb\" target=\"_parent\"><img src=\"https://colab.research.google.com/assets/colab-badge.svg\" alt=\"Open In Colab\"/></a>"
      ]
    },
    {
      "cell_type": "markdown",
      "source": [
        "### **Binary Search python code**"
      ],
      "metadata": {
        "id": "rTFgYnon7n7r"
      }
    },
    {
      "cell_type": "code",
      "execution_count": 1,
      "metadata": {
        "colab": {
          "base_uri": "https://localhost:8080/"
        },
        "id": "Fu9w8Hzo2Str",
        "outputId": "2d985c29-988e-4aab-cc9b-5026a355da3e"
      },
      "outputs": [
        {
          "output_type": "stream",
          "name": "stdout",
          "text": [
            "Enter the list of elements in sorted order without repeating the elements: 2 5 8 9\n",
            "Enter the search element:5\n",
            "The search element is present at index: 1\n"
          ]
        }
      ],
      "source": [
        "def binarysearch(a,beg,end,se):\n",
        " if (end>=beg):\n",
        "  mid=(beg+end)//2\n",
        "  if(a[mid]==se):\n",
        "    print(\"The search element is present at index:\",mid)\n",
        "  elif(a[mid]<se):\n",
        "    binarysearch(a,mid+1,end,se)\n",
        "  else:\n",
        "    binarysearch(a,beg,mid-1,se)\n",
        " else:\n",
        "  print(\"The search element is not found in the list.\")\n",
        "a=[int(x) for x in input(\"Enter the list of elements in sorted order without repeating the elements: \").split(\" \")]\n",
        "se=int(input(\"Enter the search element:\"))\n",
        "binarysearch(a,0,len(a)-1,se)"
      ]
    }
  ]
}